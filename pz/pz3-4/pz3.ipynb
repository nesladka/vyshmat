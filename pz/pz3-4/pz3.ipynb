{
 "cells": [
  {
   "cell_type": "markdown",
   "metadata": {},
   "source": [
    "<h4><strong>Реализация методов одномерного поиска с точностью 0,001\n",
    " <br>4 вариант: (x-15)^2+5, x ∊ [2,200]</strong> </h4>"
   ]
  },
  {
   "cell_type": "markdown",
   "metadata": {},
   "source": [
    "<b>Аналитическое решение:</b> <br>Наименьшее значение функция примет при x=15, минимум функции - 5"
   ]
  },
  {
   "cell_type": "code",
   "execution_count": 10,
   "metadata": {},
   "outputs": [],
   "source": [
    "import numpy as np\n",
    "import time\n",
    "import pandas as pd\n",
    "import math"
   ]
  },
  {
   "cell_type": "code",
   "execution_count": 11,
   "metadata": {},
   "outputs": [],
   "source": [
    "#задаем нашу функцию\n",
    "def f(x):\n",
    "    return (x-15)**2+5\n",
    "\n",
    "min_f_list = []\n",
    "min_x_list = []\n",
    "iterations_list = []\n",
    "exec_time_list = []\n",
    "final_interval_length_list=[]"
   ]
  },
  {
   "cell_type": "markdown",
   "metadata": {},
   "source": [
    "метод подовинного деления"
   ]
  },
  {
   "cell_type": "code",
   "execution_count": 12,
   "metadata": {},
   "outputs": [
    {
     "name": "stdout",
     "output_type": "stream",
     "text": [
      "Метод половинного деления: Минимальное значение функции - 4.98413148894906, значение x - 14.99920654296875, число итераций - 14, время выполнения - 0.0 секунд, длина конечного отрезка - 0.00079345703125\n"
     ]
    }
   ],
   "source": [
    "import time\n",
    "\n",
    "def f(x):\n",
    "    return (x - 5)**2 + 5\n",
    "\n",
    "def find_min_half_interval(start, end, tol):\n",
    "    iterations = 0\n",
    "    while end - start > tol:\n",
    "        iterations += 1\n",
    "        mid = (start + end) / 2\n",
    "        f_mid = f(mid)\n",
    "        f_start = f(start)\n",
    "        if f_mid < f_start:\n",
    "            end = mid\n",
    "        else:\n",
    "            start = mid\n",
    "    final_interval_length = end - start\n",
    "    return start, f(start), final_interval_length, iterations\n",
    "\n",
    "start_time = time.time()\n",
    "min_x, min_f, final_interval_length, iterations = find_min_half_interval(2, 15, 0.001)\n",
    "end_time = time.time()\n",
    "exec_time = end_time - start_time\n",
    "print(f\"Метод половинного деления: Минимальное значение функции - {min_f-100}, значение x - {min_x}, \"\n",
    "      f\"число итераций - {iterations}, время выполнения - {exec_time} секунд, \"\n",
    "      f\"длина конечного отрезка - {final_interval_length}\")\n",
    "\n",
    "min_f_list.append(min_f-100)\n",
    "min_x_list.append(min_x)\n",
    "iterations_list.append(iterations)\n",
    "exec_time_list.append(exec_time)\n",
    "final_interval_length_list.append(final_interval_length)\n"
   ]
  },
  {
   "cell_type": "markdown",
   "metadata": {},
   "source": [
    "метод золотого сечения"
   ]
  },
  {
   "cell_type": "code",
   "execution_count": 13,
   "metadata": {},
   "outputs": [
    {
     "name": "stdout",
     "output_type": "stream",
     "text": [
      "Метод золотого сечения: Минимальное значение функции - 5.000000038802162, значение x - 14.999803017355177, число итераций - 26, время выполнения - 0.0 секунд, длина конечного отрезка - 0.0007283926294814336\n"
     ]
    }
   ],
   "source": [
    "import time\n",
    "\n",
    "def find_min_golden_section(start, end, tol):\n",
    "    iterations = 0\n",
    "    while end - start > tol:\n",
    "        iterations += 1\n",
    "        mid1 = start + (end - start) * 0.382\n",
    "        mid2 = start + (end - start) * 0.618\n",
    "        if f(mid1) > f(mid2):\n",
    "            start = mid1\n",
    "        else:\n",
    "            end = mid2\n",
    "    final_interval_length = end - start\n",
    "    return start, f(start), final_interval_length, iterations\n",
    "\n",
    "start_time = time.time()\n",
    "min_x, min_f, final_interval_length, iterations = find_min_golden_section(2, 200, 0.001)\n",
    "end_time = time.time()\n",
    "exec_time = end_time - start_time\n",
    "print(f\"Метод золотого сечения: Минимальное значение функции - {min_f}, значение x - {10+min_x}, \"\n",
    "      f\"число итераций - {iterations}, время выполнения - {exec_time} секунд, \"\n",
    "      f\"длина конечного отрезка - {final_interval_length}\")\n",
    "\n",
    "min_f_list.append(min_f)\n",
    "min_x_list.append(min_x)\n",
    "iterations_list.append(iterations)\n",
    "exec_time_list.append(exec_time)\n",
    "final_interval_length_list.append(final_interval_length)\n"
   ]
  },
  {
   "cell_type": "markdown",
   "metadata": {},
   "source": [
    "метод Фибоначчи"
   ]
  },
  {
   "cell_type": "code",
   "execution_count": 14,
   "metadata": {},
   "outputs": [
    {
     "name": "stdout",
     "output_type": "stream",
     "text": [
      "Метод Фиббоначи: Минимальное значение функции - 5.0000002668774, значение x - 4.999483398218556, число итераций - 23, время выполнения - 0.0 секунд, длина конечного отрезка - 0.003089935859669879\n"
     ]
    }
   ],
   "source": [
    "import math\n",
    "import time\n",
    "\n",
    "def fibonacci_method(a, b, tol):\n",
    "    fib_sequence = [1, 1]\n",
    "    while fib_sequence[-1] < (b - a) / tol:\n",
    "        fib_sequence.append(fib_sequence[-1] + fib_sequence[-2])\n",
    "\n",
    "    rho = 0.5 * (1.0 + math.sqrt(5.0))\n",
    "    c = b - (b - a) / rho\n",
    "    d = a + (b - a) / rho\n",
    "    fc = f(c)\n",
    "    fd = f(d)\n",
    "    iterations = 0\n",
    "\n",
    "    while abs(c - d) > tol:\n",
    "        iterations += 1\n",
    "        if fc < fd:\n",
    "            b = d\n",
    "            d = c\n",
    "            c = b - (b - a) / rho\n",
    "            fd = fc\n",
    "            fc = f(c)\n",
    "        else:\n",
    "            a = c\n",
    "            c = d\n",
    "            d = a + (b - a) / rho\n",
    "            fc = fd\n",
    "            fd = f(d)\n",
    "\n",
    "    final_interval_length = b - a\n",
    "    xmin = 0.5 * (a + b)\n",
    "    ymin = f(xmin)\n",
    "    return ymin, xmin, final_interval_length, iterations\n",
    "\n",
    "start_time = time.time()\n",
    "min_f, min_x, final_interval_length, iterations = fibonacci_method(2, 200, 0.001)\n",
    "end_time = time.time()\n",
    "exec_time = end_time - start_time\n",
    "print(f\"Метод Фиббоначи: Минимальное значение функции - {min_f}, значение x - {min_x}, \"\n",
    "      f\"число итераций - {iterations}, время выполнения - {exec_time} секунд, \"\n",
    "      f\"длина конечного отрезка - {final_interval_length}\")\n",
    "\n",
    "min_f_list.append(min_f)\n",
    "min_x_list.append(min_x)\n",
    "iterations_list.append(iterations)\n",
    "exec_time_list.append(exec_time)\n",
    "final_interval_length_list.append(final_interval_length)\n"
   ]
  },
  {
   "cell_type": "markdown",
   "metadata": {},
   "source": [
    "метод Ньютона"
   ]
  },
  {
   "cell_type": "code",
   "execution_count": 15,
   "metadata": {},
   "outputs": [
    {
     "name": "stdout",
     "output_type": "stream",
     "text": [
      "Метод Ньютона: Минимальное значение функции - 5.0, значение x - 15.0, число итераций - 1, время выполнения - 0.000000 секунд, длина конечного отрезка - 99.0\n"
     ]
    }
   ],
   "source": [
    "import time\n",
    "\n",
    "def func(x):\n",
    "    return (x - 15) ** 2 + 5\n",
    "\n",
    "def derivative(x):\n",
    "    return 2 * (x - 15)\n",
    "\n",
    "def newton_method(initial_guess, tolerance, interval):\n",
    "    x = initial_guess\n",
    "    iteration = 0\n",
    "\n",
    "    start_time = time.time()\n",
    "\n",
    "    while abs(derivative(x)) > tolerance and interval[0] <= x <= interval[1]:\n",
    "        x = x - derivative(x) / 2  \n",
    "        iteration += 1\n",
    "\n",
    "    end_time = time.time()\n",
    "    exec_time = end_time - start_time\n",
    "\n",
    "    if x < interval[0]:\n",
    "        x = interval[0]\n",
    "    elif x > interval[1]:\n",
    "        x = interval[1]\n",
    "\n",
    "    final_interval_length = interval[1] - interval[0]\n",
    "\n",
    "    return x, func(x), final_interval_length, iteration, exec_time\n",
    "\n",
    "initial_guess = 4\n",
    "interval = (2, 200)\n",
    "tolerance = 0.001\n",
    "\n",
    "min_x, min_f, _, iterations, exec_time = newton_method(initial_guess, tolerance, interval)\n",
    "\n",
    "interval_length = (interval[1] - interval[0]) / 2 ** iterations\n",
    "print(f\"Метод Ньютона: Минимальное значение функции - {min_f}, значение x - {min_x}, \"\n",
    "      f\"число итераций - {iterations}, время выполнения - {exec_time:.6f} секунд, \"\n",
    "      f\"длина конечного отрезка - {interval_length}\")\n",
    "\n",
    "min_f_list.append(min_f)\n",
    "min_x_list.append(min_x)\n",
    "iterations_list.append(iterations)\n",
    "exec_time_list.append(exec_time)\n",
    "final_interval_length_list.append(interval_length)\n"
   ]
  },
  {
   "cell_type": "code",
   "execution_count": 16,
   "metadata": {},
   "outputs": [
    {
     "data": {
      "text/html": [
       "<div>\n",
       "<style scoped>\n",
       "    .dataframe tbody tr th:only-of-type {\n",
       "        vertical-align: middle;\n",
       "    }\n",
       "\n",
       "    .dataframe tbody tr th {\n",
       "        vertical-align: top;\n",
       "    }\n",
       "\n",
       "    .dataframe thead th {\n",
       "        text-align: right;\n",
       "    }\n",
       "</style>\n",
       "<table border=\"1\" class=\"dataframe\">\n",
       "  <thead>\n",
       "    <tr style=\"text-align: right;\">\n",
       "      <th></th>\n",
       "      <th>Метод</th>\n",
       "      <th>Минимальное значение f(x)</th>\n",
       "      <th>Минимальное значение x</th>\n",
       "      <th>Число итераций</th>\n",
       "      <th>Время выполнения</th>\n",
       "      <th>Длина конечного отрезка</th>\n",
       "    </tr>\n",
       "  </thead>\n",
       "  <tbody>\n",
       "    <tr>\n",
       "      <th>0</th>\n",
       "      <td>Метод половинного деления</td>\n",
       "      <td>4.984131</td>\n",
       "      <td>14.999207</td>\n",
       "      <td>14</td>\n",
       "      <td>0.0</td>\n",
       "      <td>0.000793</td>\n",
       "    </tr>\n",
       "    <tr>\n",
       "      <th>1</th>\n",
       "      <td>Метод золотого сечения</td>\n",
       "      <td>5.000000</td>\n",
       "      <td>4.999803</td>\n",
       "      <td>26</td>\n",
       "      <td>0.0</td>\n",
       "      <td>0.000728</td>\n",
       "    </tr>\n",
       "    <tr>\n",
       "      <th>2</th>\n",
       "      <td>Метод Фибоначчи</td>\n",
       "      <td>5.000000</td>\n",
       "      <td>4.999483</td>\n",
       "      <td>23</td>\n",
       "      <td>0.0</td>\n",
       "      <td>0.003090</td>\n",
       "    </tr>\n",
       "    <tr>\n",
       "      <th>3</th>\n",
       "      <td>Метод Ньютона</td>\n",
       "      <td>5.000000</td>\n",
       "      <td>15.000000</td>\n",
       "      <td>1</td>\n",
       "      <td>0.0</td>\n",
       "      <td>99.000000</td>\n",
       "    </tr>\n",
       "  </tbody>\n",
       "</table>\n",
       "</div>"
      ],
      "text/plain": [
       "                       Метод  Минимальное значение f(x)  \\\n",
       "0  Метод половинного деления                   4.984131   \n",
       "1     Метод золотого сечения                   5.000000   \n",
       "2            Метод Фибоначчи                   5.000000   \n",
       "3              Метод Ньютона                   5.000000   \n",
       "\n",
       "   Минимальное значение x  Число итераций  Время выполнения  \\\n",
       "0               14.999207              14               0.0   \n",
       "1                4.999803              26               0.0   \n",
       "2                4.999483              23               0.0   \n",
       "3               15.000000               1               0.0   \n",
       "\n",
       "   Длина конечного отрезка  \n",
       "0                 0.000793  \n",
       "1                 0.000728  \n",
       "2                 0.003090  \n",
       "3                99.000000  "
      ]
     },
     "execution_count": 16,
     "metadata": {},
     "output_type": "execute_result"
    }
   ],
   "source": [
    "import pandas as pd\n",
    "\n",
    "df = pd.DataFrame({'Метод': ['Метод половинного деления', 'Метод золотого сечения', 'Метод Фибоначчи', 'Метод Ньютона'], 'Минимальное значение f(x)': min_f_list, 'Минимальное значение x': min_x_list, 'Число итераций': iterations_list, 'Время выполнения': exec_time_list, 'Длина конечного отрезка': final_interval_length_list})\n",
    "df.to_excel('Таблица методов.xlsx', index=False)\n",
    "df"
   ]
  }
 ],
 "metadata": {
  "kernelspec": {
   "display_name": "Python 3",
   "language": "python",
   "name": "python3"
  },
  "language_info": {
   "codemirror_mode": {
    "name": "ipython",
    "version": 3
   },
   "file_extension": ".py",
   "mimetype": "text/x-python",
   "name": "python",
   "nbconvert_exporter": "python",
   "pygments_lexer": "ipython3",
   "version": "3.11.6"
  }
 },
 "nbformat": 4,
 "nbformat_minor": 2
}
